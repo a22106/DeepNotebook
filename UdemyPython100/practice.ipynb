{
 "cells": [
  {
   "cell_type": "markdown",
   "metadata": {},
   "source": [
    "# day 16 OOP"
   ]
  },
  {
   "cell_type": "code",
   "execution_count": 1,
   "metadata": {},
   "outputs": [
    {
     "name": "stdout",
     "output_type": "stream",
     "text": [
      "Collecting prettytable"
     ]
    },
    {
     "name": "stderr",
     "output_type": "stream",
     "text": [
      "WARNING: You are using pip version 22.0.3; however, version 22.2 is available.\n",
      "You should consider upgrading via the 'C:\\Users\\PiusHwang\\AppData\\Local\\Microsoft\\WindowsApps\\PythonSoftwareFoundation.Python.3.10_qbz5n2kfra8p0\\python.exe -m pip install --upgrade pip' command.\n"
     ]
    },
    {
     "name": "stdout",
     "output_type": "stream",
     "text": [
      "\n",
      "  Downloading prettytable-3.3.0-py3-none-any.whl (26 kB)\n",
      "Requirement already satisfied: wcwidth in c:\\users\\piushwang\\appdata\\local\\packages\\pythonsoftwarefoundation.python.3.10_qbz5n2kfra8p0\\localcache\\local-packages\\python310\\site-packages (from prettytable) (0.2.5)\n",
      "Installing collected packages: prettytable\n",
      "Successfully installed prettytable-3.3.0\n"
     ]
    }
   ],
   "source": [
    "!pip install prettytable"
   ]
  },
  {
   "cell_type": "code",
   "execution_count": 2,
   "metadata": {},
   "outputs": [],
   "source": [
    "from prettytable import PrettyTable\n",
    "x = PrettyTable()"
   ]
  },
  {
   "cell_type": "code",
   "execution_count": 5,
   "metadata": {},
   "outputs": [],
   "source": [
    "x.field_names = [\"City name\", \"Area\", \"Population\", \"Annual Rainfall\"]\n",
    "x.add_rows(\n",
    "    [\n",
    "        [\"Adelaide\", 1295, 1158259, 600.5],\n",
    "        [\"Brisbane\", 5905, 1857594, 1146.4],\n",
    "        [\"Darwin\", 112, 120900, 1714.7],\n",
    "        [\"Hobart\", 1357, 205556, 619.5],\n",
    "        [\"Sydney\", 2058, 4336374, 1214.8],\n",
    "        [\"Melbourne\", 1566, 3806092, 646.9],\n",
    "        [\"Perth\", 5386, 1554769, 869.4],\n",
    "    ]\n",
    ")"
   ]
  },
  {
   "cell_type": "code",
   "execution_count": 6,
   "metadata": {},
   "outputs": [],
   "source": [
    "import sqlite3\n",
    "from prettytable import from_db_cursor\n",
    "\n",
    "connection = sqlite3.connect(\"population.sqlite\")\n"
   ]
  },
  {
   "cell_type": "code",
   "execution_count": 9,
   "metadata": {},
   "outputs": [
    {
     "name": "stdout",
     "output_type": "stream",
     "text": [
      "+-----------+------------+\n",
      "| City name | Population |\n",
      "+-----------+------------+\n",
      "|  Adelaide |  1158259   |\n",
      "|  Brisbane |  1857594   |\n",
      "|   Darwin  |   120900   |\n",
      "|   Hobart  |   205556   |\n",
      "|   Sydney  |  4336374   |\n",
      "| Melbourne |  3806092   |\n",
      "|   Perth   |  1554769   |\n",
      "|  Adelaide |  1158259   |\n",
      "|  Brisbane |  1857594   |\n",
      "|   Darwin  |   120900   |\n",
      "|   Hobart  |   205556   |\n",
      "|   Sydney  |  4336374   |\n",
      "| Melbourne |  3806092   |\n",
      "|   Perth   |  1554769   |\n",
      "+-----------+------------+\n"
     ]
    }
   ],
   "source": [
    "print(x.get_string(fields = [\"City name\", \"Population\"]))"
   ]
  },
  {
   "cell_type": "code",
   "execution_count": 19,
   "metadata": {},
   "outputs": [
    {
     "name": "stdout",
     "output_type": "stream",
     "text": [
      "+---------------+----------+\n",
      "| Poketmon Name |   Type   |\n",
      "+---------------+----------+\n",
      "|    Pikachu    | Electric |\n",
      "|    Squirtle   |  Water   |\n",
      "|   Bulbasaur   |  Grass   |\n",
      "+---------------+----------+\n"
     ]
    }
   ],
   "source": [
    "table = PrettyTable()\n",
    "table.add_column(\"Poketmon Name\", [\"Pikachu\", \"Squirtle\", \"Bulbasaur\"],)\n",
    "table.add_column(\"Type\", [\"Electric\", \"Water\", \"Grass\"],)\n",
    "\n",
    "print(table)"
   ]
  }
 ],
 "metadata": {
  "kernelspec": {
   "display_name": "Python 3.10.5 64-bit (windows store)",
   "language": "python",
   "name": "python3"
  },
  "language_info": {
   "codemirror_mode": {
    "name": "ipython",
    "version": 3
   },
   "file_extension": ".py",
   "mimetype": "text/x-python",
   "name": "python",
   "nbconvert_exporter": "python",
   "pygments_lexer": "ipython3",
   "version": "3.10.5"
  },
  "orig_nbformat": 4,
  "vscode": {
   "interpreter": {
    "hash": "b78a14297dbe569e25ee4da826df63b85b37fbdd479f87706c722d10f0636c27"
   }
  }
 },
 "nbformat": 4,
 "nbformat_minor": 2
}
