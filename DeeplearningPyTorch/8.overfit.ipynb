{
 "cells": [
  {
   "cell_type": "code",
   "execution_count": 79,
   "metadata": {},
   "outputs": [],
   "source": [
    "import numpy as np\n",
    "import pandas as pd\n",
    "import seaborn as sns\n",
    "import matplotlib.pyplot as plt\n",
    "\n",
    "from sklearn.preprocessing import StandardScaler\n",
    "from sklearn.datasets import fetch_california_housing"
   ]
  },
  {
   "cell_type": "code",
   "execution_count": null,
   "metadata": {},
   "outputs": [],
   "source": []
  },
  {
   "cell_type": "code",
   "execution_count": 80,
   "metadata": {},
   "outputs": [],
   "source": [
    "california = fetch_california_housing()\n"
   ]
  },
  {
   "cell_type": "code",
   "execution_count": 81,
   "metadata": {},
   "outputs": [
    {
     "name": "stdout",
     "output_type": "stream",
     "text": [
      "       MedInc  HouseAge  AveRooms  AveBedrms  Population  AveOccup  Latitude  \\\n",
      "0      8.3252      41.0  6.984127   1.023810       322.0  2.555556     37.88   \n",
      "1      8.3014      21.0  6.238137   0.971880      2401.0  2.109842     37.86   \n",
      "2      7.2574      52.0  8.288136   1.073446       496.0  2.802260     37.85   \n",
      "3      5.6431      52.0  5.817352   1.073059       558.0  2.547945     37.85   \n",
      "4      3.8462      52.0  6.281853   1.081081       565.0  2.181467     37.85   \n",
      "...       ...       ...       ...        ...         ...       ...       ...   \n",
      "20635  1.5603      25.0  5.045455   1.133333       845.0  2.560606     39.48   \n",
      "20636  2.5568      18.0  6.114035   1.315789       356.0  3.122807     39.49   \n",
      "20637  1.7000      17.0  5.205543   1.120092      1007.0  2.325635     39.43   \n",
      "20638  1.8672      18.0  5.329513   1.171920       741.0  2.123209     39.43   \n",
      "20639  2.3886      16.0  5.254717   1.162264      1387.0  2.616981     39.37   \n",
      "\n",
      "       Longitude  target  \n",
      "0        -122.23   4.526  \n",
      "1        -122.22   3.585  \n",
      "2        -122.24   3.521  \n",
      "3        -122.25   3.413  \n",
      "4        -122.25   3.422  \n",
      "...          ...     ...  \n",
      "20635    -121.09   0.781  \n",
      "20636    -121.21   0.771  \n",
      "20637    -121.22   0.923  \n",
      "20638    -121.32   0.847  \n",
      "20639    -121.24   0.894  \n",
      "\n",
      "[20640 rows x 9 columns]\n"
     ]
    }
   ],
   "source": [
    "df = pd.DataFrame(california.data, columns=california.feature_names)\n",
    "df['target'] = california.target\n",
    "print(df)"
   ]
  },
  {
   "cell_type": "code",
   "execution_count": 82,
   "metadata": {},
   "outputs": [],
   "source": [
    "import torch\n",
    "import torch.nn as nn\n",
    "import torch.nn.functional as F\n",
    "import torch.optim as optim"
   ]
  },
  {
   "cell_type": "code",
   "execution_count": 83,
   "metadata": {},
   "outputs": [
    {
     "name": "stdout",
     "output_type": "stream",
     "text": [
      "torch.Size([20640, 8]) torch.Size([20640, 1])\n"
     ]
    }
   ],
   "source": [
    "data = torch.from_numpy(df.values).float()\n",
    "\n",
    "x_init = data[:, :-1]\n",
    "y_init = data[:, -1:]\n",
    "\n",
    "print(x_init.size(), y_init.size())"
   ]
  },
  {
   "cell_type": "code",
   "execution_count": 84,
   "metadata": {},
   "outputs": [],
   "source": [
    "# Train, Val, Test ratio\n",
    "ratios = [.6, .2, .2]"
   ]
  },
  {
   "cell_type": "code",
   "execution_count": 85,
   "metadata": {},
   "outputs": [
    {
     "data": {
      "text/plain": [
       "12384.0"
      ]
     },
     "execution_count": 85,
     "metadata": {},
     "output_type": "execute_result"
    }
   ],
   "source": [
    "data.size(0) * ratios[0]"
   ]
  },
  {
   "cell_type": "code",
   "execution_count": 86,
   "metadata": {},
   "outputs": [
    {
     "name": "stdout",
     "output_type": "stream",
     "text": [
      "Train 12384 / Valid 4128 / Test 4128 samples.\n"
     ]
    }
   ],
   "source": [
    "# 샘플 개수 출력\n",
    "train_cnt = int(data.size(0) * ratios[0])\n",
    "valid_cnt = int(data.size(0) * ratios[1])\n",
    "test_cnt = data.size(0) - train_cnt - valid_cnt\n",
    "cnts = [train_cnt, valid_cnt, test_cnt]\n",
    "\n",
    "print(\"Train %d / Valid %d / Test %d samples.\"% (train_cnt, valid_cnt, test_cnt))"
   ]
  },
  {
   "cell_type": "markdown",
   "metadata": {},
   "source": [
    "# 랜덤 셔플링"
   ]
  },
  {
   "cell_type": "code",
   "execution_count": 87,
   "metadata": {},
   "outputs": [
    {
     "name": "stdout",
     "output_type": "stream",
     "text": [
      "torch.Size([12384, 8]) torch.Size([12384, 1])\n",
      "torch.Size([4128, 8]) torch.Size([4128, 1])\n",
      "torch.Size([4128, 8]) torch.Size([4128, 1])\n"
     ]
    }
   ],
   "source": [
    "# Shuffles before split\n",
    "indices = torch.randperm(data.size(0))\n",
    "x = torch.index_select(x_init, dim=0, index = indices)\n",
    "y = torch.index_select(y_init, dim = 0, index = indices)\n",
    "\n",
    "x = list(x.split(cnts, dim = 0))\n",
    "y = y.split(cnts, dim=0)\n",
    "\n",
    "for x_i, y_i in zip(x, y):\n",
    "    print(x_i.size(), y_i.size())"
   ]
  },
  {
   "cell_type": "markdown",
   "metadata": {},
   "source": [
    "# 데이터 정규화"
   ]
  },
  {
   "cell_type": "code",
   "execution_count": 88,
   "metadata": {},
   "outputs": [],
   "source": [
    "scaler = StandardScaler()\n",
    "scaler.fit(x[0].numpy()) # 반드시 학습 데이터만 fitting 할 것\n",
    "\n",
    "x[0] = torch.from_numpy(scaler.transform(x[0].numpy())).float()\n",
    "x[1] = torch.from_numpy(scaler.transform(x[1].numpy())).float()\n",
    "x[2] = torch.from_numpy(scaler.transform(x[2].numpy())).float()"
   ]
  },
  {
   "cell_type": "code",
   "execution_count": 89,
   "metadata": {},
   "outputs": [],
   "source": [
    "model = nn.Sequential(\n",
    "    nn.Linear(x[0].size(-1), 6),\n",
    "    nn.LeakyReLU(),\n",
    "    nn.Linear(6, 5),\n",
    "    nn.LeakyReLU(),\n",
    "    nn.Linear(5, 4),\n",
    "    nn.LeakyReLU(),\n",
    "    nn.Linear(4, 3),\n",
    "    nn.LeakyReLU(),\n",
    "    nn.Linear(3, y[0].size(-1))\n",
    ")\n",
    "\n",
    "optimizer = optim.Adam(model.parameters())"
   ]
  },
  {
   "cell_type": "code",
   "execution_count": 90,
   "metadata": {},
   "outputs": [],
   "source": [
    "n_epochs = 4000\n",
    "batch_size = 256\n",
    "print_interval = 100"
   ]
  },
  {
   "cell_type": "markdown",
   "metadata": {},
   "source": [
    "* 최저 val loss를 추적하기 위한 변수 lowest_loss및 최저 검증 손실 값을 뱉은 모델을 저장하기 위한 변수 best_model을 생성\n",
    "* best_model은 deepcopy를 해야함\n",
    "\n",
    "# 학습 조기 종료를 위한 셋팅값\n",
    "* lowest_epoch 선언"
   ]
  },
  {
   "cell_type": "code",
   "execution_count": 91,
   "metadata": {},
   "outputs": [],
   "source": [
    "from copy import deepcopy\n",
    "\n",
    "lowest_loss = np.inf\n",
    "best_model = None\n",
    "\n",
    "early_stop = 100\n",
    "lowest_epoch = np.inf"
   ]
  },
  {
   "cell_type": "markdown",
   "metadata": {},
   "source": [
    "# 검증 작업\n",
    "* 역전파로 학습을 수행하지 않음\n",
    "* gradient를 계산 불필요 -> torch.no_grad 호울, with 내부에서 검증 작업 진행\n",
    "* gradient 계산 위한 배후 작업 없어 계산 오버헤드가 줄어들어 속도가 빨라짐, 메모리 사용량 줄어듦\n",
    "\n",
    "1. split으로 미니배치 크기로 나눔\n",
    "2. shuffling 빠짐\n",
    "3. feed-forward만 있고 backward 없음"
   ]
  },
  {
   "cell_type": "code",
   "execution_count": 92,
   "metadata": {},
   "outputs": [
    {
     "data": {
      "text/plain": [
       "torch.Size([256, 1])"
      ]
     },
     "execution_count": 92,
     "metadata": {},
     "output_type": "execute_result"
    }
   ],
   "source": [
    "y_[0].shape"
   ]
  },
  {
   "cell_type": "code",
   "execution_count": 93,
   "metadata": {},
   "outputs": [
    {
     "data": {
      "text/plain": [
       "\"train_history, valid_history = [], []\\n\\nfor i in range(n_epochs):\\n    # Shuffle before minibatch split\\n    indices = torch.randperm(x[0].size(0))\\n    x_ = torch.index_select(x[0], dim = 0, index = indices)\\n    y_ = torch.index_select(y[0], dim = 0, index=indices)\\n\\n\\n    x_ = x_.split(batch_size, dim = 0)\\n    y_ = y_.split(batch_size, dim = 0)\\n\\n\\n    train_loss, val_loss = 0, 0\\n    y_hat = []\\n\\n    for x_i, y_i in zip(x_, y_):\\n        y_hat_i = model(x_i)\\n        loss = F.mse_loss(y_hat_i, y_i)\\n\\n        optimizer.zero_grad()\\n        loss.backward()\\n        optimizer.step()\\n        train_loss += float(loss)\\n\\n    train_loss =train_loss/len(x_)\\n\\n    with torch.no_grad():\\n        x_ = x[1].split(batch_size, dim = 0)\\n        y_ = y[1].split(batch_size, dim = 0)\\n\\n        valid_loss = 0\\n\\n        for x_i, y_i in zip(x_, y_):\\n            y_hat_i = model(x_i)\\n            loss = F.mse_loss(x_i, y_i)\\n\\n            val_loss += loss\\n\\n            y_hat = [y_hat_i]\\n\\n    valid_loss = valid_loss / len(x_)\\n\\n    # Log each loss to plot after training is done\\n    train_history += [train_loss]\\n    valid_history += [valid_loss]\\n\\n    if (i + 1) % print_interval == 0:\\n        print('Epoch %d: train loss%.4e valid_loss=%.4e lowest_loss = %.4e'%(\\n            i + 1,\\n            train_loss,\\n            valid_loss,\\n            lowest_loss,\\n        ))\""
      ]
     },
     "execution_count": 93,
     "metadata": {},
     "output_type": "execute_result"
    }
   ],
   "source": [
    "'''train_history, valid_history = [], []\n",
    "\n",
    "for i in range(n_epochs):\n",
    "    # Shuffle before minibatch split\n",
    "    indices = torch.randperm(x[0].size(0))\n",
    "    x_ = torch.index_select(x[0], dim = 0, index = indices)\n",
    "    y_ = torch.index_select(y[0], dim = 0, index=indices)\n",
    "\n",
    "\n",
    "    x_ = x_.split(batch_size, dim = 0)\n",
    "    y_ = y_.split(batch_size, dim = 0)\n",
    "\n",
    "\n",
    "    train_loss, val_loss = 0, 0\n",
    "    y_hat = []\n",
    "\n",
    "    for x_i, y_i in zip(x_, y_):\n",
    "        y_hat_i = model(x_i)\n",
    "        loss = F.mse_loss(y_hat_i, y_i)\n",
    "\n",
    "        optimizer.zero_grad()\n",
    "        loss.backward()\n",
    "        optimizer.step()\n",
    "        train_loss += float(loss)\n",
    "\n",
    "    train_loss =train_loss/len(x_)\n",
    "\n",
    "    with torch.no_grad():\n",
    "        x_ = x[1].split(batch_size, dim = 0)\n",
    "        y_ = y[1].split(batch_size, dim = 0)\n",
    "\n",
    "        valid_loss = 0\n",
    "\n",
    "        for x_i, y_i in zip(x_, y_):\n",
    "            y_hat_i = model(x_i)\n",
    "            loss = F.mse_loss(x_i, y_i)\n",
    "\n",
    "            val_loss += loss\n",
    "\n",
    "            y_hat = [y_hat_i]\n",
    "\n",
    "    valid_loss = valid_loss / len(x_)\n",
    "\n",
    "    # Log each loss to plot after training is done\n",
    "    train_history += [train_loss]\n",
    "    valid_history += [valid_loss]\n",
    "\n",
    "    if (i + 1) % print_interval == 0:\n",
    "        print('Epoch %d: train loss%.4e valid_loss=%.4e lowest_loss = %.4e'%(\n",
    "            i + 1,\n",
    "            train_loss,\n",
    "            valid_loss,\n",
    "            lowest_loss,\n",
    "        ))'''"
   ]
  },
  {
   "cell_type": "code",
   "execution_count": 94,
   "metadata": {},
   "outputs": [
    {
     "name": "stdout",
     "output_type": "stream",
     "text": [
      "Epoch 100: train loss=3.5130e-01  valid_loss=3.6238e-01  lowest_loss=3.6229e-01\n",
      "Epoch 200: train loss=3.3996e-01  valid_loss=3.5199e-01  lowest_loss=3.5221e-01\n",
      "Epoch 300: train loss=3.3317e-01  valid_loss=3.4603e-01  lowest_loss=3.4554e-01\n",
      "Epoch 400: train loss=3.3136e-01  valid_loss=3.4458e-01  lowest_loss=3.4422e-01\n",
      "Epoch 500: train loss=3.3144e-01  valid_loss=3.4413e-01  lowest_loss=3.4349e-01\n",
      "Epoch 600: train loss=3.2695e-01  valid_loss=3.4301e-01  lowest_loss=3.4167e-01\n",
      "Epoch 700: train loss=3.1823e-01  valid_loss=3.3414e-01  lowest_loss=3.3462e-01\n",
      "Epoch 800: train loss=3.1589e-01  valid_loss=3.3009e-01  lowest_loss=3.2614e-01\n",
      "Epoch 900: train loss=3.0981e-01  valid_loss=3.2298e-01  lowest_loss=3.2090e-01\n",
      "Epoch 1000: train loss=3.0585e-01  valid_loss=3.1901e-01  lowest_loss=3.1681e-01\n",
      "Epoch 1100: train loss=3.0495e-01  valid_loss=3.1756e-01  lowest_loss=3.1574e-01\n",
      "Epoch 1200: train loss=3.0718e-01  valid_loss=3.1591e-01  lowest_loss=3.1399e-01\n",
      "Epoch 1300: train loss=3.0531e-01  valid_loss=3.1539e-01  lowest_loss=3.1382e-01\n",
      "There is no improvement during last 100 epochs.\n",
      "The best validation loss from epoch 1273: 3.1382e-01\n"
     ]
    },
    {
     "data": {
      "text/plain": [
       "<All keys matched successfully>"
      ]
     },
     "execution_count": 94,
     "metadata": {},
     "output_type": "execute_result"
    }
   ],
   "source": [
    "train_history, valid_history = [], []\n",
    "\n",
    "for i in range(n_epochs):\n",
    "    # Shuffle before mini-batch split.\n",
    "    indices = torch.randperm(x[0].size(0))\n",
    "    x_ = torch.index_select(x[0], dim=0, index=indices)\n",
    "    y_ = torch.index_select(y[0], dim=0, index=indices)\n",
    "    # |x_| = (total_size, input_dim)\n",
    "    # |y_| = (total_size, output_dim)\n",
    "    \n",
    "    x_ = x_.split(batch_size, dim=0)\n",
    "    y_ = y_.split(batch_size, dim=0)\n",
    "    # |x_[i]| = (batch_size, input_dim)\n",
    "    # |y_[i]| = (batch_size, output_dim)\n",
    "    \n",
    "    train_loss, valid_loss = 0, 0\n",
    "    y_hat = []\n",
    "    \n",
    "    for x_i, y_i in zip(x_, y_):\n",
    "        # |x_i| = |x_[i]|\n",
    "        # |y_i| = |y_[i]|\n",
    "        y_hat_i = model(x_i)\n",
    "        loss = F.mse_loss(y_hat_i, y_i)\n",
    "\n",
    "        optimizer.zero_grad()\n",
    "        loss.backward()\n",
    "\n",
    "        optimizer.step()        \n",
    "        train_loss += float(loss)\n",
    "\n",
    "    train_loss = train_loss / len(x_)    \n",
    "    # You need to declare to PYTORCH to stop build the computation graph.\n",
    "    with torch.no_grad():\n",
    "        # You don't need to shuffle the validation set.\n",
    "        # Only split is needed.\n",
    "        x_ = x[1].split(batch_size, dim=0)\n",
    "        y_ = y[1].split(batch_size, dim=0)\n",
    "        \n",
    "        valid_loss = 0\n",
    "        \n",
    "        for x_i, y_i in zip(x_, y_):\n",
    "            y_hat_i = model(x_i)\n",
    "            loss = F.mse_loss(y_hat_i, y_i)\n",
    "            \n",
    "            valid_loss += loss\n",
    "            \n",
    "            y_hat += [y_hat_i]\n",
    "            \n",
    "    valid_loss = valid_loss / len(x_)\n",
    "    \n",
    "    # Log each loss to plot after training is done.\n",
    "    train_history += [train_loss]\n",
    "    valid_history += [valid_loss]\n",
    "        \n",
    "    if (i + 1) % print_interval == 0:\n",
    "        print('Epoch %d: train loss=%.4e  valid_loss=%.4e  lowest_loss=%.4e' % (\n",
    "            i + 1,\n",
    "            train_loss,\n",
    "            valid_loss,\n",
    "            lowest_loss,\n",
    "        ))\n",
    "\n",
    "    if valid_loss <= lowest_loss:\n",
    "        lowest_loss = valid_loss\n",
    "        lowest_epoch = i\n",
    "        \n",
    "        # 'state_dict()' returns model weights as key-value.\n",
    "        # Take a deep copy, if the valid loss is lowest ever.\n",
    "        best_model = deepcopy(model.state_dict())\n",
    "    else:\n",
    "        if early_stop > 0 and lowest_epoch + early_stop < i + 1:\n",
    "            print(\"There is no improvement during last %d epochs.\" % early_stop)\n",
    "            break\n",
    "\n",
    "print(\"The best validation loss from epoch %d: %.4e\" % (lowest_epoch + 1, lowest_loss))\n",
    "\n",
    "# Load best epoch's model.\n",
    "model.load_state_dict(best_model)        \n",
    "    "
   ]
  },
  {
   "cell_type": "code",
   "execution_count": 95,
   "metadata": {},
   "outputs": [
    {
     "data": {
      "image/png": "[encoded data removed]",
      "text/plain": [
       "<Figure size 1440x720 with 1 Axes>"
      ]
     },
     "metadata": {
      "needs_background": "light"
     },
     "output_type": "display_data"
    }
   ],
   "source": [
    "plot_from = 10\n",
    "\n",
    "plt.figure(figsize=(20, 10))\n",
    "plt.grid(True)\n",
    "plt.title(\"Train / Valid Loss History\")\n",
    "plt.plot(\n",
    "    range(plot_from, len(train_history)), train_history[plot_from:],\n",
    "    range(plot_from, len(valid_history)), valid_history[plot_from:],\n",
    ")\n",
    "plt.yscale('log')\n",
    "plt.show()"
   ]
  }
 ],
 "metadata": {
  "kernelspec": {
   "display_name": "Python 3.8.5 ('aicomp')",
   "language": "python",
   "name": "python3"
  },
  "language_info": {
   "codemirror_mode": {
    "name": "ipython",
    "version": 3
   },
   "file_extension": ".py",
   "mimetype": "text/x-python",
   "name": "python",
   "nbconvert_exporter": "python",
   "pygments_lexer": "ipython3",
   "version": "3.8.5"
  },
  "orig_nbformat": 4,
  "vscode": {
   "interpreter": {
    "hash": "ca3cd20c8ed94420af4701aa4e5766dbc68c4ea6bc8409f5f338bc464fc401d0"
   }
  }
 },
 "nbformat": 4,
 "nbformat_minor": 2
}
